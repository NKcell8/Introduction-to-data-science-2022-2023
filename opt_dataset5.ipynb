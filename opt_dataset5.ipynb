{
  "nbformat": 4,
  "nbformat_minor": 0,
  "metadata": {
    "colab": {
      "provenance": []
    },
    "kernelspec": {
      "name": "python3",
      "display_name": "Python 3"
    },
    "language_info": {
      "name": "python"
    }
  },
  "cells": [
    {
      "cell_type": "markdown",
      "source": [
        "#Optional dataset 5"
      ],
      "metadata": {
        "id": "IYz8y9BTieap"
      }
    },
    {
      "cell_type": "markdown",
      "source": [
        "I prepare this notebook to show methods of retrieval and clustering using amazon baby dataset. \n",
        "\n",
        "Methods:\n",
        "- KNN - it allows find k the most similar text in set of articles\n",
        "- KMeans - it allows grouping similar texts into clusters"
      ],
      "metadata": {
        "id": "b8r-jIEcin00"
      }
    },
    {
      "cell_type": "code",
      "source": [
        "import pandas as pd\n",
        "import numpy as np\n",
        "import matplotlib.pyplot as plt\n",
        "import seaborn as sns\n"
      ],
      "metadata": {
        "id": "NpliiP6dv993"
      },
      "execution_count": 214,
      "outputs": []
    },
    {
      "cell_type": "code",
      "source": [
        "baby_df = pd.read_csv('amazon_baby.csv')\n",
        "baby_df = baby_df.iloc[:10000]\n",
        "baby_df.head(10)"
      ],
      "metadata": {
        "colab": {
          "base_uri": "https://localhost:8080/",
          "height": 363
        },
        "id": "F-vm-_v9v6DL",
        "outputId": "e18dd531-4290-4f9e-db0d-eb135b798617"
      },
      "execution_count": 215,
      "outputs": [
        {
          "output_type": "execute_result",
          "data": {
            "text/plain": [
              "                                                name  \\\n",
              "0                           Planetwise Flannel Wipes   \n",
              "1                              Planetwise Wipe Pouch   \n",
              "2                Annas Dream Full Quilt with 2 Shams   \n",
              "3  Stop Pacifier Sucking without tears with Thumb...   \n",
              "4  Stop Pacifier Sucking without tears with Thumb...   \n",
              "5  Stop Pacifier Sucking without tears with Thumb...   \n",
              "6            A Tale of Baby's Days with Peter Rabbit   \n",
              "7  Baby Tracker&reg; - Daily Childcare Journal, S...   \n",
              "8  Baby Tracker&reg; - Daily Childcare Journal, S...   \n",
              "9  Baby Tracker&reg; - Daily Childcare Journal, S...   \n",
              "\n",
              "                                              review  rating  \n",
              "0  These flannel wipes are OK, but in my opinion ...       3  \n",
              "1  it came early and was not disappointed. i love...       5  \n",
              "2  Very soft and comfortable and warmer than it l...       5  \n",
              "3  This is a product well worth the purchase.  I ...       5  \n",
              "4  All of my kids have cried non-stop when I trie...       5  \n",
              "5  When the Binky Fairy came to our house, we did...       5  \n",
              "6  Lovely book, it's bound tightly so you may not...       4  \n",
              "7  Perfect for new parents. We were able to keep ...       5  \n",
              "8  A friend of mine pinned this product on Pinter...       5  \n",
              "9  This has been an easy way for my nanny to reco...       4  "
            ],
            "text/html": [
              "\n",
              "  <div id=\"df-ecf409e7-8de7-4eaf-a1b8-84b42e2175f5\">\n",
              "    <div class=\"colab-df-container\">\n",
              "      <div>\n",
              "<style scoped>\n",
              "    .dataframe tbody tr th:only-of-type {\n",
              "        vertical-align: middle;\n",
              "    }\n",
              "\n",
              "    .dataframe tbody tr th {\n",
              "        vertical-align: top;\n",
              "    }\n",
              "\n",
              "    .dataframe thead th {\n",
              "        text-align: right;\n",
              "    }\n",
              "</style>\n",
              "<table border=\"1\" class=\"dataframe\">\n",
              "  <thead>\n",
              "    <tr style=\"text-align: right;\">\n",
              "      <th></th>\n",
              "      <th>name</th>\n",
              "      <th>review</th>\n",
              "      <th>rating</th>\n",
              "    </tr>\n",
              "  </thead>\n",
              "  <tbody>\n",
              "    <tr>\n",
              "      <th>0</th>\n",
              "      <td>Planetwise Flannel Wipes</td>\n",
              "      <td>These flannel wipes are OK, but in my opinion ...</td>\n",
              "      <td>3</td>\n",
              "    </tr>\n",
              "    <tr>\n",
              "      <th>1</th>\n",
              "      <td>Planetwise Wipe Pouch</td>\n",
              "      <td>it came early and was not disappointed. i love...</td>\n",
              "      <td>5</td>\n",
              "    </tr>\n",
              "    <tr>\n",
              "      <th>2</th>\n",
              "      <td>Annas Dream Full Quilt with 2 Shams</td>\n",
              "      <td>Very soft and comfortable and warmer than it l...</td>\n",
              "      <td>5</td>\n",
              "    </tr>\n",
              "    <tr>\n",
              "      <th>3</th>\n",
              "      <td>Stop Pacifier Sucking without tears with Thumb...</td>\n",
              "      <td>This is a product well worth the purchase.  I ...</td>\n",
              "      <td>5</td>\n",
              "    </tr>\n",
              "    <tr>\n",
              "      <th>4</th>\n",
              "      <td>Stop Pacifier Sucking without tears with Thumb...</td>\n",
              "      <td>All of my kids have cried non-stop when I trie...</td>\n",
              "      <td>5</td>\n",
              "    </tr>\n",
              "    <tr>\n",
              "      <th>5</th>\n",
              "      <td>Stop Pacifier Sucking without tears with Thumb...</td>\n",
              "      <td>When the Binky Fairy came to our house, we did...</td>\n",
              "      <td>5</td>\n",
              "    </tr>\n",
              "    <tr>\n",
              "      <th>6</th>\n",
              "      <td>A Tale of Baby's Days with Peter Rabbit</td>\n",
              "      <td>Lovely book, it's bound tightly so you may not...</td>\n",
              "      <td>4</td>\n",
              "    </tr>\n",
              "    <tr>\n",
              "      <th>7</th>\n",
              "      <td>Baby Tracker&amp;reg; - Daily Childcare Journal, S...</td>\n",
              "      <td>Perfect for new parents. We were able to keep ...</td>\n",
              "      <td>5</td>\n",
              "    </tr>\n",
              "    <tr>\n",
              "      <th>8</th>\n",
              "      <td>Baby Tracker&amp;reg; - Daily Childcare Journal, S...</td>\n",
              "      <td>A friend of mine pinned this product on Pinter...</td>\n",
              "      <td>5</td>\n",
              "    </tr>\n",
              "    <tr>\n",
              "      <th>9</th>\n",
              "      <td>Baby Tracker&amp;reg; - Daily Childcare Journal, S...</td>\n",
              "      <td>This has been an easy way for my nanny to reco...</td>\n",
              "      <td>4</td>\n",
              "    </tr>\n",
              "  </tbody>\n",
              "</table>\n",
              "</div>\n",
              "      <button class=\"colab-df-convert\" onclick=\"convertToInteractive('df-ecf409e7-8de7-4eaf-a1b8-84b42e2175f5')\"\n",
              "              title=\"Convert this dataframe to an interactive table.\"\n",
              "              style=\"display:none;\">\n",
              "        \n",
              "  <svg xmlns=\"http://www.w3.org/2000/svg\" height=\"24px\"viewBox=\"0 0 24 24\"\n",
              "       width=\"24px\">\n",
              "    <path d=\"M0 0h24v24H0V0z\" fill=\"none\"/>\n",
              "    <path d=\"M18.56 5.44l.94 2.06.94-2.06 2.06-.94-2.06-.94-.94-2.06-.94 2.06-2.06.94zm-11 1L8.5 8.5l.94-2.06 2.06-.94-2.06-.94L8.5 2.5l-.94 2.06-2.06.94zm10 10l.94 2.06.94-2.06 2.06-.94-2.06-.94-.94-2.06-.94 2.06-2.06.94z\"/><path d=\"M17.41 7.96l-1.37-1.37c-.4-.4-.92-.59-1.43-.59-.52 0-1.04.2-1.43.59L10.3 9.45l-7.72 7.72c-.78.78-.78 2.05 0 2.83L4 21.41c.39.39.9.59 1.41.59.51 0 1.02-.2 1.41-.59l7.78-7.78 2.81-2.81c.8-.78.8-2.07 0-2.86zM5.41 20L4 18.59l7.72-7.72 1.47 1.35L5.41 20z\"/>\n",
              "  </svg>\n",
              "      </button>\n",
              "      \n",
              "  <style>\n",
              "    .colab-df-container {\n",
              "      display:flex;\n",
              "      flex-wrap:wrap;\n",
              "      gap: 12px;\n",
              "    }\n",
              "\n",
              "    .colab-df-convert {\n",
              "      background-color: #E8F0FE;\n",
              "      border: none;\n",
              "      border-radius: 50%;\n",
              "      cursor: pointer;\n",
              "      display: none;\n",
              "      fill: #1967D2;\n",
              "      height: 32px;\n",
              "      padding: 0 0 0 0;\n",
              "      width: 32px;\n",
              "    }\n",
              "\n",
              "    .colab-df-convert:hover {\n",
              "      background-color: #E2EBFA;\n",
              "      box-shadow: 0px 1px 2px rgba(60, 64, 67, 0.3), 0px 1px 3px 1px rgba(60, 64, 67, 0.15);\n",
              "      fill: #174EA6;\n",
              "    }\n",
              "\n",
              "    [theme=dark] .colab-df-convert {\n",
              "      background-color: #3B4455;\n",
              "      fill: #D2E3FC;\n",
              "    }\n",
              "\n",
              "    [theme=dark] .colab-df-convert:hover {\n",
              "      background-color: #434B5C;\n",
              "      box-shadow: 0px 1px 3px 1px rgba(0, 0, 0, 0.15);\n",
              "      filter: drop-shadow(0px 1px 2px rgba(0, 0, 0, 0.3));\n",
              "      fill: #FFFFFF;\n",
              "    }\n",
              "  </style>\n",
              "\n",
              "      <script>\n",
              "        const buttonEl =\n",
              "          document.querySelector('#df-ecf409e7-8de7-4eaf-a1b8-84b42e2175f5 button.colab-df-convert');\n",
              "        buttonEl.style.display =\n",
              "          google.colab.kernel.accessAllowed ? 'block' : 'none';\n",
              "\n",
              "        async function convertToInteractive(key) {\n",
              "          const element = document.querySelector('#df-ecf409e7-8de7-4eaf-a1b8-84b42e2175f5');\n",
              "          const dataTable =\n",
              "            await google.colab.kernel.invokeFunction('convertToInteractive',\n",
              "                                                     [key], {});\n",
              "          if (!dataTable) return;\n",
              "\n",
              "          const docLinkHtml = 'Like what you see? Visit the ' +\n",
              "            '<a target=\"_blank\" href=https://colab.research.google.com/notebooks/data_table.ipynb>data table notebook</a>'\n",
              "            + ' to learn more about interactive tables.';\n",
              "          element.innerHTML = '';\n",
              "          dataTable['output_type'] = 'display_data';\n",
              "          await google.colab.output.renderOutput(dataTable, element);\n",
              "          const docLink = document.createElement('div');\n",
              "          docLink.innerHTML = docLinkHtml;\n",
              "          element.appendChild(docLink);\n",
              "        }\n",
              "      </script>\n",
              "    </div>\n",
              "  </div>\n",
              "  "
            ]
          },
          "metadata": {},
          "execution_count": 215
        }
      ]
    },
    {
      "cell_type": "markdown",
      "source": [
        "#Text processing"
      ],
      "metadata": {
        "id": "0BSo3nGqve0O"
      }
    },
    {
      "cell_type": "markdown",
      "source": [
        "I check how many records in review column is NaN."
      ],
      "metadata": {
        "id": "Evc8wORrzc0Z"
      }
    },
    {
      "cell_type": "code",
      "source": [
        "baby_df.review.isna().sum()"
      ],
      "metadata": {
        "colab": {
          "base_uri": "https://localhost:8080/",
          "height": 0
        },
        "id": "SJawp3u4zRyF",
        "outputId": "a8463a0b-10ae-4559-8c01-40e56e92a3a5"
      },
      "execution_count": 216,
      "outputs": [
        {
          "output_type": "execute_result",
          "data": {
            "text/plain": [
              "21"
            ]
          },
          "metadata": {},
          "execution_count": 216
        }
      ]
    },
    {
      "cell_type": "markdown",
      "source": [
        "Then I remove all records with NaN values."
      ],
      "metadata": {
        "id": "N_hlaolnzlXt"
      }
    },
    {
      "cell_type": "code",
      "source": [
        "baby_df=baby_df.dropna(subset=['review'])\n",
        "baby_df.review.isna().sum()"
      ],
      "metadata": {
        "colab": {
          "base_uri": "https://localhost:8080/",
          "height": 0
        },
        "id": "0oYJdqIxzkw5",
        "outputId": "1a739555-1aed-4228-b536-af863b0d44fb"
      },
      "execution_count": 217,
      "outputs": [
        {
          "output_type": "execute_result",
          "data": {
            "text/plain": [
              "0"
            ]
          },
          "metadata": {},
          "execution_count": 217
        }
      ]
    },
    {
      "cell_type": "markdown",
      "source": [
        "Below, I remove punctuation from text."
      ],
      "metadata": {
        "id": "Bj2JIGZU0f-J"
      }
    },
    {
      "cell_type": "code",
      "source": [
        "def remove_punctuation(text):\n",
        "    import string\n",
        "    translator = str.maketrans('', '', string.punctuation)\n",
        "    return text.translate(translator)\n",
        "\n",
        "print(baby_df['review'][34])\n",
        "\n",
        "\n",
        "baby_df['review'] = baby_df['review'].apply(remove_punctuation)\n",
        "\n",
        "print(baby_df['review'][34])"
      ],
      "metadata": {
        "id": "tqYNZH_bv47e",
        "colab": {
          "base_uri": "https://localhost:8080/",
          "height": 0
        },
        "outputId": "b7a1ff5f-75ca-4063-d7ae-1983133118bf"
      },
      "execution_count": 218,
      "outputs": [
        {
          "output_type": "stream",
          "name": "stdout",
          "text": [
            "The book is cute, and we are huge fans of Lamaze products, however, this one leaves out some family members (no little brother) and can possibly cause hurt feelings. That said, our baby loves to play with the hands, hair and flaps!\n",
            "The book is cute and we are huge fans of Lamaze products however this one leaves out some family members no little brother and can possibly cause hurt feelings That said our baby loves to play with the hands hair and flaps\n"
          ]
        }
      ]
    },
    {
      "cell_type": "markdown",
      "source": [
        "TF-IDF transformation"
      ],
      "metadata": {
        "id": "fVci4NtM3YFz"
      }
    },
    {
      "cell_type": "code",
      "source": [
        "from sklearn.feature_extraction.text import CountVectorizer\n",
        "from sklearn.feature_extraction.text import TfidfTransformer\n",
        "\n",
        "vectorizer = CountVectorizer(token_pattern=r\"(?u)\\b\\w+\\b\",stop_words='english')\n",
        "WCmatrix=vectorizer.fit_transform(baby_df['review'])\n",
        "\n",
        "tfidf=TfidfTransformer(smooth_idf=False,norm=None)\n",
        "TFIDFmatrix =tfidf.fit_transform(WCmatrix)\n"
      ],
      "metadata": {
        "id": "6K3x1kom3Yuy"
      },
      "execution_count": 219,
      "outputs": []
    },
    {
      "cell_type": "markdown",
      "source": [
        "#Retrieval using K-nearest neighbor search"
      ],
      "metadata": {
        "id": "2tLYJqbymMhx"
      }
    },
    {
      "cell_type": "markdown",
      "source": [
        "K Nearest Neighbour (KNN) is one of the algorithms that calculates the distance between the query observation and each data point in the dataset and finds K the closest observations. It can be use for finding K the most similar opinion in my dataset.\n",
        "\n",
        "Below I choose one opinion and it's about book - \"A Tale of Baby's Days with Peter Rabbit\". Then I try to find the most similar to these. I expect that they will be opininons with the same rate and about books."
      ],
      "metadata": {
        "id": "kXZrwmxCmWzM"
      }
    },
    {
      "cell_type": "code",
      "source": [
        "\n",
        "book= baby_df[(baby_df['name'] == \"A Tale of Baby's Days with Peter Rabbit\")]\n",
        "book"
      ],
      "metadata": {
        "colab": {
          "base_uri": "https://localhost:8080/",
          "height": 81
        },
        "id": "zosMaXkpv01Z",
        "outputId": "a48ecfab-34c9-4659-9a3e-7242808f6af1"
      },
      "execution_count": 220,
      "outputs": [
        {
          "output_type": "execute_result",
          "data": {
            "text/plain": [
              "                                      name  \\\n",
              "6  A Tale of Baby's Days with Peter Rabbit   \n",
              "\n",
              "                                              review  rating  \n",
              "6  Lovely book its bound tightly so you may not b...       4  "
            ],
            "text/html": [
              "\n",
              "  <div id=\"df-423a554d-3b56-48b8-acb2-8f7a03ff9fdf\">\n",
              "    <div class=\"colab-df-container\">\n",
              "      <div>\n",
              "<style scoped>\n",
              "    .dataframe tbody tr th:only-of-type {\n",
              "        vertical-align: middle;\n",
              "    }\n",
              "\n",
              "    .dataframe tbody tr th {\n",
              "        vertical-align: top;\n",
              "    }\n",
              "\n",
              "    .dataframe thead th {\n",
              "        text-align: right;\n",
              "    }\n",
              "</style>\n",
              "<table border=\"1\" class=\"dataframe\">\n",
              "  <thead>\n",
              "    <tr style=\"text-align: right;\">\n",
              "      <th></th>\n",
              "      <th>name</th>\n",
              "      <th>review</th>\n",
              "      <th>rating</th>\n",
              "    </tr>\n",
              "  </thead>\n",
              "  <tbody>\n",
              "    <tr>\n",
              "      <th>6</th>\n",
              "      <td>A Tale of Baby's Days with Peter Rabbit</td>\n",
              "      <td>Lovely book its bound tightly so you may not b...</td>\n",
              "      <td>4</td>\n",
              "    </tr>\n",
              "  </tbody>\n",
              "</table>\n",
              "</div>\n",
              "      <button class=\"colab-df-convert\" onclick=\"convertToInteractive('df-423a554d-3b56-48b8-acb2-8f7a03ff9fdf')\"\n",
              "              title=\"Convert this dataframe to an interactive table.\"\n",
              "              style=\"display:none;\">\n",
              "        \n",
              "  <svg xmlns=\"http://www.w3.org/2000/svg\" height=\"24px\"viewBox=\"0 0 24 24\"\n",
              "       width=\"24px\">\n",
              "    <path d=\"M0 0h24v24H0V0z\" fill=\"none\"/>\n",
              "    <path d=\"M18.56 5.44l.94 2.06.94-2.06 2.06-.94-2.06-.94-.94-2.06-.94 2.06-2.06.94zm-11 1L8.5 8.5l.94-2.06 2.06-.94-2.06-.94L8.5 2.5l-.94 2.06-2.06.94zm10 10l.94 2.06.94-2.06 2.06-.94-2.06-.94-.94-2.06-.94 2.06-2.06.94z\"/><path d=\"M17.41 7.96l-1.37-1.37c-.4-.4-.92-.59-1.43-.59-.52 0-1.04.2-1.43.59L10.3 9.45l-7.72 7.72c-.78.78-.78 2.05 0 2.83L4 21.41c.39.39.9.59 1.41.59.51 0 1.02-.2 1.41-.59l7.78-7.78 2.81-2.81c.8-.78.8-2.07 0-2.86zM5.41 20L4 18.59l7.72-7.72 1.47 1.35L5.41 20z\"/>\n",
              "  </svg>\n",
              "      </button>\n",
              "      \n",
              "  <style>\n",
              "    .colab-df-container {\n",
              "      display:flex;\n",
              "      flex-wrap:wrap;\n",
              "      gap: 12px;\n",
              "    }\n",
              "\n",
              "    .colab-df-convert {\n",
              "      background-color: #E8F0FE;\n",
              "      border: none;\n",
              "      border-radius: 50%;\n",
              "      cursor: pointer;\n",
              "      display: none;\n",
              "      fill: #1967D2;\n",
              "      height: 32px;\n",
              "      padding: 0 0 0 0;\n",
              "      width: 32px;\n",
              "    }\n",
              "\n",
              "    .colab-df-convert:hover {\n",
              "      background-color: #E2EBFA;\n",
              "      box-shadow: 0px 1px 2px rgba(60, 64, 67, 0.3), 0px 1px 3px 1px rgba(60, 64, 67, 0.15);\n",
              "      fill: #174EA6;\n",
              "    }\n",
              "\n",
              "    [theme=dark] .colab-df-convert {\n",
              "      background-color: #3B4455;\n",
              "      fill: #D2E3FC;\n",
              "    }\n",
              "\n",
              "    [theme=dark] .colab-df-convert:hover {\n",
              "      background-color: #434B5C;\n",
              "      box-shadow: 0px 1px 3px 1px rgba(0, 0, 0, 0.15);\n",
              "      filter: drop-shadow(0px 1px 2px rgba(0, 0, 0, 0.3));\n",
              "      fill: #FFFFFF;\n",
              "    }\n",
              "  </style>\n",
              "\n",
              "      <script>\n",
              "        const buttonEl =\n",
              "          document.querySelector('#df-423a554d-3b56-48b8-acb2-8f7a03ff9fdf button.colab-df-convert');\n",
              "        buttonEl.style.display =\n",
              "          google.colab.kernel.accessAllowed ? 'block' : 'none';\n",
              "\n",
              "        async function convertToInteractive(key) {\n",
              "          const element = document.querySelector('#df-423a554d-3b56-48b8-acb2-8f7a03ff9fdf');\n",
              "          const dataTable =\n",
              "            await google.colab.kernel.invokeFunction('convertToInteractive',\n",
              "                                                     [key], {});\n",
              "          if (!dataTable) return;\n",
              "\n",
              "          const docLinkHtml = 'Like what you see? Visit the ' +\n",
              "            '<a target=\"_blank\" href=https://colab.research.google.com/notebooks/data_table.ipynb>data table notebook</a>'\n",
              "            + ' to learn more about interactive tables.';\n",
              "          element.innerHTML = '';\n",
              "          dataTable['output_type'] = 'display_data';\n",
              "          await google.colab.output.renderOutput(dataTable, element);\n",
              "          const docLink = document.createElement('div');\n",
              "          docLink.innerHTML = docLinkHtml;\n",
              "          element.appendChild(docLink);\n",
              "        }\n",
              "      </script>\n",
              "    </div>\n",
              "  </div>\n",
              "  "
            ]
          },
          "metadata": {},
          "execution_count": 220
        }
      ]
    },
    {
      "cell_type": "code",
      "source": [
        "book_index = book.index[0]\n",
        "book_index"
      ],
      "metadata": {
        "colab": {
          "base_uri": "https://localhost:8080/",
          "height": 0
        },
        "id": "vN3Nb2XN0cAB",
        "outputId": "966cc5d4-3182-46a2-a4f8-6ca800a5fc3e"
      },
      "execution_count": 221,
      "outputs": [
        {
          "output_type": "execute_result",
          "data": {
            "text/plain": [
              "6"
            ]
          },
          "metadata": {},
          "execution_count": 221
        }
      ]
    },
    {
      "cell_type": "markdown",
      "source": [
        "Below, I count distance to 5 nearest neighbors this book using euclidean metrics. In fact I get 4 neighbors becuse first is my book, so distance is equals 0."
      ],
      "metadata": {
        "id": "l-wgJlkFf9go"
      }
    },
    {
      "cell_type": "code",
      "execution_count": 222,
      "metadata": {
        "id": "_BBl1q2liMj4",
        "colab": {
          "base_uri": "https://localhost:8080/",
          "height": 0
        },
        "outputId": "22557b2c-049a-44f6-a51f-9d2f10488f59"
      },
      "outputs": [
        {
          "output_type": "stream",
          "name": "stdout",
          "text": [
            "[[ 0.         33.73064801 33.76981121 33.81303367 33.81333884]] [[   6 1292 4277 7182  809]]\n"
          ]
        }
      ],
      "source": [
        "from sklearn.neighbors import NearestNeighbors\n",
        "nbrs = NearestNeighbors(n_neighbors=5, algorithm='brute',metric='euclidean').fit(TFIDFmatrix)\n",
        "distances, indices = nbrs.kneighbors(TFIDFmatrix[book_index])\n",
        "print(distances,indices)"
      ]
    },
    {
      "cell_type": "code",
      "source": [
        "review_index = []\n",
        "for i in range(0,5):\n",
        "  review_index.append(indices[0][i])\n",
        "print(review_index)\n",
        "\n",
        "for i in review_index:\n",
        "  print(baby_df['name'][i])\n",
        "  print(baby_df['review'][i])\n",
        "  print(baby_df['rating'][i])\n",
        "  print(\"====================\")\n"
      ],
      "metadata": {
        "colab": {
          "base_uri": "https://localhost:8080/",
          "height": 0
        },
        "id": "1UpLVqh7f0_x",
        "outputId": "4d8a9ddf-296e-41d2-b815-6470983b8caa"
      },
      "execution_count": 223,
      "outputs": [
        {
          "output_type": "stream",
          "name": "stdout",
          "text": [
            "[6, 1292, 4277, 7182, 809]\n",
            "A Tale of Baby's Days with Peter Rabbit\n",
            "Lovely book its bound tightly so you may not be able to add alot of photoscards aside from the designated spaces in the book Shop around before you purchase as it is currently listed at Barnes  Noble for 2995\n",
            "4\n",
            "====================\n",
            "Munchkin Mozart Magic Cube\n",
            "Im grandma and I purchased the Munchkin Mozart Magic Cube for my grandbaby It is precious The bright colors light up and the music is beautiful I love the way my grandbaby can choose various instruments to play the melodyI give this toy 5 stars It was worth purchasingEnjoy\n",
            "5\n",
            "====================\n",
            "Baby Bjorn Baby Carrier - Navy\n",
            "Although the carrier is very comfortable for periods of 45 minutes or less I find I only use it for walking or shopping I cant sit with it on because my baby hates getting her legs squished I cant do any chores that require bending for the same reason plus having to brace her head with one hand is awkward while trying to get work done I tried vacuuming once which worked until I hit her head on the vacuum cleaner while trying to do the stairsStill I couldnt live without this item but I dont use it as much as I wish I could\n",
            "3\n",
            "====================\n",
            "Munchkin White Hot Inflatable Duck Tub\n",
            "I dont know if Im the only review saying this but my 8 month old HATED this tub I actually bought the seal which has the face looking in unlike the duck but Ive heard the same from mom friends about the duck tub I should say its super cute and has some great features the white hot circle to tell if the water is a good temp the suction to hang dry and the size so you dont use too much water but my baby just cant get over how terrifying the seals face is Ha This child isnt afraid of anyone or anything Santa Easter Bunny  strangers included but screamed in terror both times she was put in the tub We were shocked as weve never seen her react to anything like that I heard the same from 45 mom friends about both the duck and the seal Very strange but maybe worth researching a faceless tub  I did give it 2 stars since some may not have the issue and its a nice tub from an adult standpoint\n",
            "2\n",
            "====================\n",
            "Safety 1st Power Strip Cover\n",
            "My baby was unable to pull it off or remove any plugs from to power strip and it is a great product\n",
            "5\n",
            "====================\n"
          ]
        }
      ]
    },
    {
      "cell_type": "markdown",
      "source": [
        "I got opinions which are the closest neighbors of given. But the result isn't well and as I expect. I have opinions about products which aren't connected with book. Also rates are very differen."
      ],
      "metadata": {
        "id": "xOzF0vHS6ULJ"
      }
    },
    {
      "cell_type": "markdown",
      "source": [
        "So, my next step is attempt to use another metrice - cosine.\n"
      ],
      "metadata": {
        "id": "scZXK0_J9ivG"
      }
    },
    {
      "cell_type": "code",
      "source": [
        "nbrs = NearestNeighbors(n_neighbors=5, algorithm='brute',metric='cosine').fit(TFIDFmatrix)\n",
        "distances, indices = nbrs.kneighbors(TFIDFmatrix[book_index])\n",
        "print(distances,indices)"
      ],
      "metadata": {
        "colab": {
          "base_uri": "https://localhost:8080/",
          "height": 0
        },
        "id": "5dAqsNUw9usM",
        "outputId": "e2fb2129-00b3-4efc-a5b3-2c677459b869"
      },
      "execution_count": 224,
      "outputs": [
        {
          "output_type": "stream",
          "name": "stdout",
          "text": [
            "[[0.         0.81426146 0.8227532  0.82643842 0.8282095 ]] [[  6  43 190 206  46]]\n"
          ]
        }
      ]
    },
    {
      "cell_type": "code",
      "source": [
        "review_index_cosine = []\n",
        "for i in range(0,5):\n",
        "  review_index_cosine.append(indices[0][i])\n",
        "print(review_index_cosine)\n",
        "\n",
        "for i in review_index_cosine:\n",
        "  print(baby_df['name'][i])\n",
        "  print(baby_df['review'][i])\n",
        "  print(baby_df['rating'][i])\n",
        "  print(\"====================\")"
      ],
      "metadata": {
        "colab": {
          "base_uri": "https://localhost:8080/",
          "height": 0
        },
        "id": "jli1ieQT90jV",
        "outputId": "c54f2eaa-39a7-495b-b448-30f00378c9aa"
      },
      "execution_count": 225,
      "outputs": [
        {
          "output_type": "stream",
          "name": "stdout",
          "text": [
            "[6, 43, 190, 206, 46]\n",
            "A Tale of Baby's Days with Peter Rabbit\n",
            "Lovely book its bound tightly so you may not be able to add alot of photoscards aside from the designated spaces in the book Shop around before you purchase as it is currently listed at Barnes  Noble for 2995\n",
            "4\n",
            "====================\n",
            "SoftPlay Peek-A-Boo Where's Elmo A Children's Book\n",
            "I bought two for recent baby showers  The book is soft and interactive great for any baby and the bright colors are beautiful  Lastly who doesnt love Elmo\n",
            "5\n",
            "====================\n",
            "Sassy Who Loves Baby? Photo Album Book with teether handle\n",
            "I was concerned about the chemical content of this plastic book since a baby will undoubtedly stick it in his mouth I emailed Sassy and got a reply saying that this was BPA PVC and Phtalates free I can breathe a sigh of relief when I hand this to our babysoon\n",
            "5\n",
            "====================\n",
            "My Quiet Book, Fabric Activity Book for Children\n",
            "Well made and quite a few different texturesToddler loved this book and Mom approved tooEveryone was happy with this selection\n",
            "5\n",
            "====================\n",
            "SoftPlay Peek-A-Boo Where's Elmo A Children's Book\n",
            "My 3 month old son loves this book We read it over and over and he smiles and laughs every time we find Elmo and say 34peekaboo Elmo34  We have a few different soft books and this is the most colorful and fun to read And baby adores it so 5 stars for sure\n",
            "5\n",
            "====================\n"
          ]
        }
      ]
    },
    {
      "cell_type": "markdown",
      "source": [
        "Now, I got reviews only about book with high rate as given book - \"A Tale of Baby's Days with Peter Rabbit\".\n",
        "\n",
        "Then, I want to try different method of searching similar elements in set."
      ],
      "metadata": {
        "id": "VQVd5o0oA0zE"
      }
    },
    {
      "cell_type": "markdown",
      "source": [
        "#Clustering using KMeans"
      ],
      "metadata": {
        "id": "RgifG_khp4tv"
      }
    },
    {
      "cell_type": "markdown",
      "source": [
        "K-means clustering is one of the unsupervised machine learning algorithms. The K-means clustering algorithm tries to group similar items in the form of clusters. The number of groups is represented by K.\n",
        "\n"
      ],
      "metadata": {
        "id": "SnRsbGAPp-Xz"
      }
    },
    {
      "cell_type": "markdown",
      "source": [
        "###Elbow method\n",
        "It's method which allows find the optimal number of clusters. To do that we use inertia_ which is sum of squared distances of samples to their closest cluster center. We count it for some number of K and then plot the result. Our optimal K number is in the \"elbow of the curve\".  \n",
        "\n"
      ],
      "metadata": {
        "id": "EHVZD1xQde6o"
      }
    },
    {
      "cell_type": "code",
      "source": [
        "from sklearn.cluster import KMeans\n",
        "inertia_list = []\n",
        "\n",
        "for i in range(1, 15):\n",
        "    kmeans = KMeans(n_clusters = i, init = 'k-means++', max_iter = 100, n_init =30, random_state = 12)\n",
        "    kmeans.fit(TFIDFmatrix)\n",
        "    inertia_list.append(kmeans.inertia_)\n",
        "\n",
        "plt.plot(range(1, 15), inertia_list)\n",
        "plt.title('The elbow method')\n",
        "plt.xlabel('Number of clusters')\n",
        "plt.ylabel('Inertia')\n",
        "plt.show()"
      ],
      "metadata": {
        "colab": {
          "base_uri": "https://localhost:8080/",
          "height": 295
        },
        "id": "GlSQCm4QH2-V",
        "outputId": "51a45944-afef-4fe3-bcac-fbe3c6255f5d"
      },
      "execution_count": 226,
      "outputs": [
        {
          "output_type": "display_data",
          "data": {
            "text/plain": [
              "<Figure size 432x288 with 1 Axes>"
            ],
            "image/png": "[encoded data removed]"
          },
          "metadata": {
            "needs_background": "light"
          }
        }
      ]
    },
    {
      "cell_type": "markdown",
      "source": [
        "But in this case, this method seems to be useless, becuse plot looks as if doesn't have elbow. So, I choose k = 5, becuse I have set with 5 values of ratings and I hope it might be good way to find optimal number of clusters."
      ],
      "metadata": {
        "id": "V9yhUYL1uxlw"
      }
    },
    {
      "cell_type": "code",
      "source": [
        "from sklearn.cluster import KMeans\n",
        "model = KMeans(n_clusters = 5,init='k-means++',random_state=0)\n",
        "model.fit(TFIDFmatrix)\n",
        "labels = model.labels_\n",
        "baby_df['Cluster'] = model.labels_\n",
        "baby_df.head(30)"
      ],
      "metadata": {
        "id": "tCwHmQGKp-xT",
        "colab": {
          "base_uri": "https://localhost:8080/",
          "height": 990
        },
        "outputId": "8d65c5ff-dd93-4631-e71d-35c8105dbfdd"
      },
      "execution_count": 227,
      "outputs": [
        {
          "output_type": "execute_result",
          "data": {
            "text/plain": [
              "                                                 name  \\\n",
              "0                            Planetwise Flannel Wipes   \n",
              "1                               Planetwise Wipe Pouch   \n",
              "2                 Annas Dream Full Quilt with 2 Shams   \n",
              "3   Stop Pacifier Sucking without tears with Thumb...   \n",
              "4   Stop Pacifier Sucking without tears with Thumb...   \n",
              "5   Stop Pacifier Sucking without tears with Thumb...   \n",
              "6             A Tale of Baby's Days with Peter Rabbit   \n",
              "7   Baby Tracker&reg; - Daily Childcare Journal, S...   \n",
              "8   Baby Tracker&reg; - Daily Childcare Journal, S...   \n",
              "9   Baby Tracker&reg; - Daily Childcare Journal, S...   \n",
              "10  Baby Tracker&reg; - Daily Childcare Journal, S...   \n",
              "11  Baby Tracker&reg; - Daily Childcare Journal, S...   \n",
              "12  Baby Tracker&reg; - Daily Childcare Journal, S...   \n",
              "13  Baby Tracker&reg; - Daily Childcare Journal, S...   \n",
              "14     Nature's Lullabies First Year Sticker Calendar   \n",
              "15     Nature's Lullabies First Year Sticker Calendar   \n",
              "16     Nature's Lullabies First Year Sticker Calendar   \n",
              "17    Nature's Lullabies Second Year Sticker Calendar   \n",
              "18    Nature's Lullabies Second Year Sticker Calendar   \n",
              "19    Nature's Lullabies Second Year Sticker Calendar   \n",
              "20    Nature's Lullabies Second Year Sticker Calendar   \n",
              "21    Nature's Lullabies Second Year Sticker Calendar   \n",
              "22    Nature's Lullabies Second Year Sticker Calendar   \n",
              "23    Nature's Lullabies Second Year Sticker Calendar   \n",
              "24    Nature's Lullabies Second Year Sticker Calendar   \n",
              "25    Nature's Lullabies Second Year Sticker Calendar   \n",
              "26                       Baby's First Journal - Green   \n",
              "27                        Lamaze Peekaboo, I Love You   \n",
              "28                        Lamaze Peekaboo, I Love You   \n",
              "29                        Lamaze Peekaboo, I Love You   \n",
              "\n",
              "                                               review  rating  Cluster  \n",
              "0   These flannel wipes are OK but in my opinion n...       3        3  \n",
              "1   it came early and was not disappointed i love ...       5        3  \n",
              "2   Very soft and comfortable and warmer than it l...       5        3  \n",
              "3   This is a product well worth the purchase  I h...       5        3  \n",
              "4   All of my kids have cried nonstop when I tried...       5        3  \n",
              "5   When the Binky Fairy came to our house we didn...       5        3  \n",
              "6   Lovely book its bound tightly so you may not b...       4        3  \n",
              "7   Perfect for new parents We were able to keep t...       5        3  \n",
              "8   A friend of mine pinned this product on Pinter...       5        3  \n",
              "9   This has been an easy way for my nanny to reco...       4        3  \n",
              "10  I love this journal and our nanny uses it ever...       4        3  \n",
              "11  This book is perfect  Im a first time new mom ...       5        3  \n",
              "12  I originally just gave the nanny a pad of pape...       4        3  \n",
              "13  I thought keeping a simple handwritten journal...       3        3  \n",
              "14  Space for monthly photos info and a lot of use...       5        3  \n",
              "15  I bought this calender for myself for my secon...       4        3  \n",
              "16  I love this little calender you can keep track...       5        3  \n",
              "17  This was the only calender I could find for th...       5        3  \n",
              "18  I completed a calendar for my sons first year ...       4        3  \n",
              "19  We wanted to get something to keep track of ou...       5        3  \n",
              "20  I had a hard time finding a second year calend...       5        3  \n",
              "21  I only purchased a secondyear calendar for my ...       2        3  \n",
              "22  I LOVE this calendar for recording events of m...       5        3  \n",
              "23  Calendar is exactly as described but I find th...       3        3  \n",
              "24  Wife loves this calender Comes with a lot of s...       5        3  \n",
              "25  My daughter had her 1st baby over a year ago S...       5        3  \n",
              "26  Extremely useful As a new mom tired and inexpe...       5        3  \n",
              "27  My son loves peek a boo at this age of 9 month...       3        3  \n",
              "28  One of babys first and favorite books and it i...       4        3  \n",
              "29  I like how the book has a hook to attach it to...       5        3  "
            ],
            "text/html": [
              "\n",
              "  <div id=\"df-ac80a431-dbcf-461e-8cbe-27aedf85611d\">\n",
              "    <div class=\"colab-df-container\">\n",
              "      <div>\n",
              "<style scoped>\n",
              "    .dataframe tbody tr th:only-of-type {\n",
              "        vertical-align: middle;\n",
              "    }\n",
              "\n",
              "    .dataframe tbody tr th {\n",
              "        vertical-align: top;\n",
              "    }\n",
              "\n",
              "    .dataframe thead th {\n",
              "        text-align: right;\n",
              "    }\n",
              "</style>\n",
              "<table border=\"1\" class=\"dataframe\">\n",
              "  <thead>\n",
              "    <tr style=\"text-align: right;\">\n",
              "      <th></th>\n",
              "      <th>name</th>\n",
              "      <th>review</th>\n",
              "      <th>rating</th>\n",
              "      <th>Cluster</th>\n",
              "    </tr>\n",
              "  </thead>\n",
              "  <tbody>\n",
              "    <tr>\n",
              "      <th>0</th>\n",
              "      <td>Planetwise Flannel Wipes</td>\n",
              "      <td>These flannel wipes are OK but in my opinion n...</td>\n",
              "      <td>3</td>\n",
              "      <td>3</td>\n",
              "    </tr>\n",
              "    <tr>\n",
              "      <th>1</th>\n",
              "      <td>Planetwise Wipe Pouch</td>\n",
              "      <td>it came early and was not disappointed i love ...</td>\n",
              "      <td>5</td>\n",
              "      <td>3</td>\n",
              "    </tr>\n",
              "    <tr>\n",
              "      <th>2</th>\n",
              "      <td>Annas Dream Full Quilt with 2 Shams</td>\n",
              "      <td>Very soft and comfortable and warmer than it l...</td>\n",
              "      <td>5</td>\n",
              "      <td>3</td>\n",
              "    </tr>\n",
              "    <tr>\n",
              "      <th>3</th>\n",
              "      <td>Stop Pacifier Sucking without tears with Thumb...</td>\n",
              "      <td>This is a product well worth the purchase  I h...</td>\n",
              "      <td>5</td>\n",
              "      <td>3</td>\n",
              "    </tr>\n",
              "    <tr>\n",
              "      <th>4</th>\n",
              "      <td>Stop Pacifier Sucking without tears with Thumb...</td>\n",
              "      <td>All of my kids have cried nonstop when I tried...</td>\n",
              "      <td>5</td>\n",
              "      <td>3</td>\n",
              "    </tr>\n",
              "    <tr>\n",
              "      <th>5</th>\n",
              "      <td>Stop Pacifier Sucking without tears with Thumb...</td>\n",
              "      <td>When the Binky Fairy came to our house we didn...</td>\n",
              "      <td>5</td>\n",
              "      <td>3</td>\n",
              "    </tr>\n",
              "    <tr>\n",
              "      <th>6</th>\n",
              "      <td>A Tale of Baby's Days with Peter Rabbit</td>\n",
              "      <td>Lovely book its bound tightly so you may not b...</td>\n",
              "      <td>4</td>\n",
              "      <td>3</td>\n",
              "    </tr>\n",
              "    <tr>\n",
              "      <th>7</th>\n",
              "      <td>Baby Tracker&amp;reg; - Daily Childcare Journal, S...</td>\n",
              "      <td>Perfect for new parents We were able to keep t...</td>\n",
              "      <td>5</td>\n",
              "      <td>3</td>\n",
              "    </tr>\n",
              "    <tr>\n",
              "      <th>8</th>\n",
              "      <td>Baby Tracker&amp;reg; - Daily Childcare Journal, S...</td>\n",
              "      <td>A friend of mine pinned this product on Pinter...</td>\n",
              "      <td>5</td>\n",
              "      <td>3</td>\n",
              "    </tr>\n",
              "    <tr>\n",
              "      <th>9</th>\n",
              "      <td>Baby Tracker&amp;reg; - Daily Childcare Journal, S...</td>\n",
              "      <td>This has been an easy way for my nanny to reco...</td>\n",
              "      <td>4</td>\n",
              "      <td>3</td>\n",
              "    </tr>\n",
              "    <tr>\n",
              "      <th>10</th>\n",
              "      <td>Baby Tracker&amp;reg; - Daily Childcare Journal, S...</td>\n",
              "      <td>I love this journal and our nanny uses it ever...</td>\n",
              "      <td>4</td>\n",
              "      <td>3</td>\n",
              "    </tr>\n",
              "    <tr>\n",
              "      <th>11</th>\n",
              "      <td>Baby Tracker&amp;reg; - Daily Childcare Journal, S...</td>\n",
              "      <td>This book is perfect  Im a first time new mom ...</td>\n",
              "      <td>5</td>\n",
              "      <td>3</td>\n",
              "    </tr>\n",
              "    <tr>\n",
              "      <th>12</th>\n",
              "      <td>Baby Tracker&amp;reg; - Daily Childcare Journal, S...</td>\n",
              "      <td>I originally just gave the nanny a pad of pape...</td>\n",
              "      <td>4</td>\n",
              "      <td>3</td>\n",
              "    </tr>\n",
              "    <tr>\n",
              "      <th>13</th>\n",
              "      <td>Baby Tracker&amp;reg; - Daily Childcare Journal, S...</td>\n",
              "      <td>I thought keeping a simple handwritten journal...</td>\n",
              "      <td>3</td>\n",
              "      <td>3</td>\n",
              "    </tr>\n",
              "    <tr>\n",
              "      <th>14</th>\n",
              "      <td>Nature's Lullabies First Year Sticker Calendar</td>\n",
              "      <td>Space for monthly photos info and a lot of use...</td>\n",
              "      <td>5</td>\n",
              "      <td>3</td>\n",
              "    </tr>\n",
              "    <tr>\n",
              "      <th>15</th>\n",
              "      <td>Nature's Lullabies First Year Sticker Calendar</td>\n",
              "      <td>I bought this calender for myself for my secon...</td>\n",
              "      <td>4</td>\n",
              "      <td>3</td>\n",
              "    </tr>\n",
              "    <tr>\n",
              "      <th>16</th>\n",
              "      <td>Nature's Lullabies First Year Sticker Calendar</td>\n",
              "      <td>I love this little calender you can keep track...</td>\n",
              "      <td>5</td>\n",
              "      <td>3</td>\n",
              "    </tr>\n",
              "    <tr>\n",
              "      <th>17</th>\n",
              "      <td>Nature's Lullabies Second Year Sticker Calendar</td>\n",
              "      <td>This was the only calender I could find for th...</td>\n",
              "      <td>5</td>\n",
              "      <td>3</td>\n",
              "    </tr>\n",
              "    <tr>\n",
              "      <th>18</th>\n",
              "      <td>Nature's Lullabies Second Year Sticker Calendar</td>\n",
              "      <td>I completed a calendar for my sons first year ...</td>\n",
              "      <td>4</td>\n",
              "      <td>3</td>\n",
              "    </tr>\n",
              "    <tr>\n",
              "      <th>19</th>\n",
              "      <td>Nature's Lullabies Second Year Sticker Calendar</td>\n",
              "      <td>We wanted to get something to keep track of ou...</td>\n",
              "      <td>5</td>\n",
              "      <td>3</td>\n",
              "    </tr>\n",
              "    <tr>\n",
              "      <th>20</th>\n",
              "      <td>Nature's Lullabies Second Year Sticker Calendar</td>\n",
              "      <td>I had a hard time finding a second year calend...</td>\n",
              "      <td>5</td>\n",
              "      <td>3</td>\n",
              "    </tr>\n",
              "    <tr>\n",
              "      <th>21</th>\n",
              "      <td>Nature's Lullabies Second Year Sticker Calendar</td>\n",
              "      <td>I only purchased a secondyear calendar for my ...</td>\n",
              "      <td>2</td>\n",
              "      <td>3</td>\n",
              "    </tr>\n",
              "    <tr>\n",
              "      <th>22</th>\n",
              "      <td>Nature's Lullabies Second Year Sticker Calendar</td>\n",
              "      <td>I LOVE this calendar for recording events of m...</td>\n",
              "      <td>5</td>\n",
              "      <td>3</td>\n",
              "    </tr>\n",
              "    <tr>\n",
              "      <th>23</th>\n",
              "      <td>Nature's Lullabies Second Year Sticker Calendar</td>\n",
              "      <td>Calendar is exactly as described but I find th...</td>\n",
              "      <td>3</td>\n",
              "      <td>3</td>\n",
              "    </tr>\n",
              "    <tr>\n",
              "      <th>24</th>\n",
              "      <td>Nature's Lullabies Second Year Sticker Calendar</td>\n",
              "      <td>Wife loves this calender Comes with a lot of s...</td>\n",
              "      <td>5</td>\n",
              "      <td>3</td>\n",
              "    </tr>\n",
              "    <tr>\n",
              "      <th>25</th>\n",
              "      <td>Nature's Lullabies Second Year Sticker Calendar</td>\n",
              "      <td>My daughter had her 1st baby over a year ago S...</td>\n",
              "      <td>5</td>\n",
              "      <td>3</td>\n",
              "    </tr>\n",
              "    <tr>\n",
              "      <th>26</th>\n",
              "      <td>Baby's First Journal - Green</td>\n",
              "      <td>Extremely useful As a new mom tired and inexpe...</td>\n",
              "      <td>5</td>\n",
              "      <td>3</td>\n",
              "    </tr>\n",
              "    <tr>\n",
              "      <th>27</th>\n",
              "      <td>Lamaze Peekaboo, I Love You</td>\n",
              "      <td>My son loves peek a boo at this age of 9 month...</td>\n",
              "      <td>3</td>\n",
              "      <td>3</td>\n",
              "    </tr>\n",
              "    <tr>\n",
              "      <th>28</th>\n",
              "      <td>Lamaze Peekaboo, I Love You</td>\n",
              "      <td>One of babys first and favorite books and it i...</td>\n",
              "      <td>4</td>\n",
              "      <td>3</td>\n",
              "    </tr>\n",
              "    <tr>\n",
              "      <th>29</th>\n",
              "      <td>Lamaze Peekaboo, I Love You</td>\n",
              "      <td>I like how the book has a hook to attach it to...</td>\n",
              "      <td>5</td>\n",
              "      <td>3</td>\n",
              "    </tr>\n",
              "  </tbody>\n",
              "</table>\n",
              "</div>\n",
              "      <button class=\"colab-df-convert\" onclick=\"convertToInteractive('df-ac80a431-dbcf-461e-8cbe-27aedf85611d')\"\n",
              "              title=\"Convert this dataframe to an interactive table.\"\n",
              "              style=\"display:none;\">\n",
              "        \n",
              "  <svg xmlns=\"http://www.w3.org/2000/svg\" height=\"24px\"viewBox=\"0 0 24 24\"\n",
              "       width=\"24px\">\n",
              "    <path d=\"M0 0h24v24H0V0z\" fill=\"none\"/>\n",
              "    <path d=\"M18.56 5.44l.94 2.06.94-2.06 2.06-.94-2.06-.94-.94-2.06-.94 2.06-2.06.94zm-11 1L8.5 8.5l.94-2.06 2.06-.94-2.06-.94L8.5 2.5l-.94 2.06-2.06.94zm10 10l.94 2.06.94-2.06 2.06-.94-2.06-.94-.94-2.06-.94 2.06-2.06.94z\"/><path d=\"M17.41 7.96l-1.37-1.37c-.4-.4-.92-.59-1.43-.59-.52 0-1.04.2-1.43.59L10.3 9.45l-7.72 7.72c-.78.78-.78 2.05 0 2.83L4 21.41c.39.39.9.59 1.41.59.51 0 1.02-.2 1.41-.59l7.78-7.78 2.81-2.81c.8-.78.8-2.07 0-2.86zM5.41 20L4 18.59l7.72-7.72 1.47 1.35L5.41 20z\"/>\n",
              "  </svg>\n",
              "      </button>\n",
              "      \n",
              "  <style>\n",
              "    .colab-df-container {\n",
              "      display:flex;\n",
              "      flex-wrap:wrap;\n",
              "      gap: 12px;\n",
              "    }\n",
              "\n",
              "    .colab-df-convert {\n",
              "      background-color: #E8F0FE;\n",
              "      border: none;\n",
              "      border-radius: 50%;\n",
              "      cursor: pointer;\n",
              "      display: none;\n",
              "      fill: #1967D2;\n",
              "      height: 32px;\n",
              "      padding: 0 0 0 0;\n",
              "      width: 32px;\n",
              "    }\n",
              "\n",
              "    .colab-df-convert:hover {\n",
              "      background-color: #E2EBFA;\n",
              "      box-shadow: 0px 1px 2px rgba(60, 64, 67, 0.3), 0px 1px 3px 1px rgba(60, 64, 67, 0.15);\n",
              "      fill: #174EA6;\n",
              "    }\n",
              "\n",
              "    [theme=dark] .colab-df-convert {\n",
              "      background-color: #3B4455;\n",
              "      fill: #D2E3FC;\n",
              "    }\n",
              "\n",
              "    [theme=dark] .colab-df-convert:hover {\n",
              "      background-color: #434B5C;\n",
              "      box-shadow: 0px 1px 3px 1px rgba(0, 0, 0, 0.15);\n",
              "      filter: drop-shadow(0px 1px 2px rgba(0, 0, 0, 0.3));\n",
              "      fill: #FFFFFF;\n",
              "    }\n",
              "  </style>\n",
              "\n",
              "      <script>\n",
              "        const buttonEl =\n",
              "          document.querySelector('#df-ac80a431-dbcf-461e-8cbe-27aedf85611d button.colab-df-convert');\n",
              "        buttonEl.style.display =\n",
              "          google.colab.kernel.accessAllowed ? 'block' : 'none';\n",
              "\n",
              "        async function convertToInteractive(key) {\n",
              "          const element = document.querySelector('#df-ac80a431-dbcf-461e-8cbe-27aedf85611d');\n",
              "          const dataTable =\n",
              "            await google.colab.kernel.invokeFunction('convertToInteractive',\n",
              "                                                     [key], {});\n",
              "          if (!dataTable) return;\n",
              "\n",
              "          const docLinkHtml = 'Like what you see? Visit the ' +\n",
              "            '<a target=\"_blank\" href=https://colab.research.google.com/notebooks/data_table.ipynb>data table notebook</a>'\n",
              "            + ' to learn more about interactive tables.';\n",
              "          element.innerHTML = '';\n",
              "          dataTable['output_type'] = 'display_data';\n",
              "          await google.colab.output.renderOutput(dataTable, element);\n",
              "          const docLink = document.createElement('div');\n",
              "          docLink.innerHTML = docLinkHtml;\n",
              "          element.appendChild(docLink);\n",
              "        }\n",
              "      </script>\n",
              "    </div>\n",
              "  </div>\n",
              "  "
            ]
          },
          "metadata": {},
          "execution_count": 227
        }
      ]
    },
    {
      "cell_type": "markdown",
      "source": [
        "Here, I want to show amount of samples in each cluster."
      ],
      "metadata": {
        "id": "rCTyjF9Itqil"
      }
    },
    {
      "cell_type": "code",
      "source": [
        "baby_df.groupby(['Cluster'])['review'].count()"
      ],
      "metadata": {
        "colab": {
          "base_uri": "https://localhost:8080/",
          "height": 0
        },
        "id": "H0PMgzJRE-Rb",
        "outputId": "2f26aa23-01ad-4da4-9f27-a107e22eda9e"
      },
      "execution_count": 228,
      "outputs": [
        {
          "output_type": "execute_result",
          "data": {
            "text/plain": [
              "Cluster\n",
              "0       2\n",
              "1       8\n",
              "2     840\n",
              "3    8665\n",
              "4     464\n",
              "Name: review, dtype: int64"
            ]
          },
          "metadata": {},
          "execution_count": 228
        }
      ]
    },
    {
      "cell_type": "markdown",
      "source": [
        "3th cluster has the most samples and \"A Tale of Baby's Days with Peter Rabbit\" is also in this cluster. \n",
        "\n",
        "Below, I chceck if the closest neighbors of my book there are in 3th clusters. And I see yes."
      ],
      "metadata": {
        "id": "gmWctnu1uVS5"
      }
    },
    {
      "cell_type": "code",
      "source": [
        "book= baby_df[baby_df['name'] == \"A Tale of Baby's Days with Peter Rabbit\"]\n",
        "\n",
        "for i in review_index_cosine:\n",
        "  print(\"Name: \", baby_df['name'][i])\n",
        "  print(\"Cluster: \", baby_df['Cluster'][i])\n",
        "  print(\"====================\")"
      ],
      "metadata": {
        "colab": {
          "base_uri": "https://localhost:8080/",
          "height": 0
        },
        "id": "duXjWjtKFPjo",
        "outputId": "1135d845-46fb-4bdd-ae45-bfe01af32e16"
      },
      "execution_count": 229,
      "outputs": [
        {
          "output_type": "stream",
          "name": "stdout",
          "text": [
            "Name:  A Tale of Baby's Days with Peter Rabbit\n",
            "Cluster:  3\n",
            "====================\n",
            "Name:  SoftPlay Peek-A-Boo Where's Elmo A Children's Book\n",
            "Cluster:  3\n",
            "====================\n",
            "Name:  Sassy Who Loves Baby? Photo Album Book with teether handle\n",
            "Cluster:  3\n",
            "====================\n",
            "Name:  My Quiet Book, Fabric Activity Book for Children\n",
            "Cluster:  3\n",
            "====================\n",
            "Name:  SoftPlay Peek-A-Boo Where's Elmo A Children's Book\n",
            "Cluster:  3\n",
            "====================\n"
          ]
        }
      ]
    },
    {
      "cell_type": "markdown",
      "source": [
        "Below, there are some samples from 3th cluster."
      ],
      "metadata": {
        "id": "-Xywg9u00mnE"
      }
    },
    {
      "cell_type": "code",
      "source": [
        "baby_df[baby_df['Cluster'] == 3].sample(20)"
      ],
      "metadata": {
        "colab": {
          "base_uri": "https://localhost:8080/",
          "height": 677
        },
        "id": "FOG1smul1BI_",
        "outputId": "49169784-747c-4342-d611-a658cf118dcd"
      },
      "execution_count": 230,
      "outputs": [
        {
          "output_type": "execute_result",
          "data": {
            "text/plain": [
              "                                                   name  \\\n",
              "2627                       BABYBJORN Little Potty - Red   \n",
              "9995                   Munchkin Twisty Figure 8 Teether   \n",
              "9096            Playtex Premium Nurser Newborn Gift Set   \n",
              "1375                         Munchkin Mozart Magic Cube   \n",
              "6642                  Leachco Snoogle Total Body Pillow   \n",
              "5603  Playtex Drop-Ins Disposable Bottle Liners, 4 O...   \n",
              "818                        Safety 1st Power Strip Cover   \n",
              "30                          Lamaze Peekaboo, I Love You   \n",
              "9533                 Snap 'N Go Infant Car Seat Carrier   \n",
              "5774    Leachco Safer Bather Infant Bath Pad, Blue Fish   \n",
              "8752              Swing Tray Portable Booster - Primary   \n",
              "26                         Baby's First Journal - Green   \n",
              "1345                         Munchkin Mozart Magic Cube   \n",
              "9984                   Munchkin Twisty Figure 8 Teether   \n",
              "3291     Evenflo Position and Lock Tall Wood Mount Gate   \n",
              "5867          The First Years Hands Free Gate Extension   \n",
              "3508                Prince Lionheart Diaper Depot Clear   \n",
              "4177                    The First Years Hands Free Gate   \n",
              "9502                                Dreamscapes Soother   \n",
              "6403                 Fisher-Price Stride to Ride Walker   \n",
              "\n",
              "                                                 review  rating  Cluster  \n",
              "2627  Got this potty today and I am so glad that I a...       5        3  \n",
              "9995  There no sound or anything and look like there...       1        3  \n",
              "9096  I originally got the Avents and they were awfu...       5        3  \n",
              "1375  got this for my granddaughter enjoyed by the w...       4        3  \n",
              "6642  Was slightly doubtful about its use  So many o...       5        3  \n",
              "5603  Well I really wanted to use the liners to avoi...       2        3  \n",
              "818   My little one looooves plug ins  This product ...       4        3  \n",
              "30    Beautiful little book  A great little short st...       5        3  \n",
              "9533  Loved this stroller  My friends are envious  I...       5        3  \n",
              "5774  When I brought my daughter home from the hospi...       5        3  \n",
              "8752  The basic idea is great and the ease of assemb...       4        3  \n",
              "26    Extremely useful As a new mom tired and inexpe...       5        3  \n",
              "1345  Bought this for a 6month old pseudoniece as a ...       5        3  \n",
              "9984  My son would NOT use any of the teething toys ...       5        3  \n",
              "3291  This was purchased specifically for keeping ou...       5        3  \n",
              "5867  shipped on time received in good condition pro...       5        3  \n",
              "3508  I think this prodict is wonderful because it s...       5        3  \n",
              "4177  We bought this gate and two extendersThen our ...       3        3  \n",
              "9502  This is a cute toy but if you buy it I would r...       3        3  \n",
              "6403  I bought this for my daughter for Christmas be...       4        3  "
            ],
            "text/html": [
              "\n",
              "  <div id=\"df-a0a09a33-e912-42de-9a55-8777cb410997\">\n",
              "    <div class=\"colab-df-container\">\n",
              "      <div>\n",
              "<style scoped>\n",
              "    .dataframe tbody tr th:only-of-type {\n",
              "        vertical-align: middle;\n",
              "    }\n",
              "\n",
              "    .dataframe tbody tr th {\n",
              "        vertical-align: top;\n",
              "    }\n",
              "\n",
              "    .dataframe thead th {\n",
              "        text-align: right;\n",
              "    }\n",
              "</style>\n",
              "<table border=\"1\" class=\"dataframe\">\n",
              "  <thead>\n",
              "    <tr style=\"text-align: right;\">\n",
              "      <th></th>\n",
              "      <th>name</th>\n",
              "      <th>review</th>\n",
              "      <th>rating</th>\n",
              "      <th>Cluster</th>\n",
              "    </tr>\n",
              "  </thead>\n",
              "  <tbody>\n",
              "    <tr>\n",
              "      <th>2627</th>\n",
              "      <td>BABYBJORN Little Potty - Red</td>\n",
              "      <td>Got this potty today and I am so glad that I a...</td>\n",
              "      <td>5</td>\n",
              "      <td>3</td>\n",
              "    </tr>\n",
              "    <tr>\n",
              "      <th>9995</th>\n",
              "      <td>Munchkin Twisty Figure 8 Teether</td>\n",
              "      <td>There no sound or anything and look like there...</td>\n",
              "      <td>1</td>\n",
              "      <td>3</td>\n",
              "    </tr>\n",
              "    <tr>\n",
              "      <th>9096</th>\n",
              "      <td>Playtex Premium Nurser Newborn Gift Set</td>\n",
              "      <td>I originally got the Avents and they were awfu...</td>\n",
              "      <td>5</td>\n",
              "      <td>3</td>\n",
              "    </tr>\n",
              "    <tr>\n",
              "      <th>1375</th>\n",
              "      <td>Munchkin Mozart Magic Cube</td>\n",
              "      <td>got this for my granddaughter enjoyed by the w...</td>\n",
              "      <td>4</td>\n",
              "      <td>3</td>\n",
              "    </tr>\n",
              "    <tr>\n",
              "      <th>6642</th>\n",
              "      <td>Leachco Snoogle Total Body Pillow</td>\n",
              "      <td>Was slightly doubtful about its use  So many o...</td>\n",
              "      <td>5</td>\n",
              "      <td>3</td>\n",
              "    </tr>\n",
              "    <tr>\n",
              "      <th>5603</th>\n",
              "      <td>Playtex Drop-Ins Disposable Bottle Liners, 4 O...</td>\n",
              "      <td>Well I really wanted to use the liners to avoi...</td>\n",
              "      <td>2</td>\n",
              "      <td>3</td>\n",
              "    </tr>\n",
              "    <tr>\n",
              "      <th>818</th>\n",
              "      <td>Safety 1st Power Strip Cover</td>\n",
              "      <td>My little one looooves plug ins  This product ...</td>\n",
              "      <td>4</td>\n",
              "      <td>3</td>\n",
              "    </tr>\n",
              "    <tr>\n",
              "      <th>30</th>\n",
              "      <td>Lamaze Peekaboo, I Love You</td>\n",
              "      <td>Beautiful little book  A great little short st...</td>\n",
              "      <td>5</td>\n",
              "      <td>3</td>\n",
              "    </tr>\n",
              "    <tr>\n",
              "      <th>9533</th>\n",
              "      <td>Snap 'N Go Infant Car Seat Carrier</td>\n",
              "      <td>Loved this stroller  My friends are envious  I...</td>\n",
              "      <td>5</td>\n",
              "      <td>3</td>\n",
              "    </tr>\n",
              "    <tr>\n",
              "      <th>5774</th>\n",
              "      <td>Leachco Safer Bather Infant Bath Pad, Blue Fish</td>\n",
              "      <td>When I brought my daughter home from the hospi...</td>\n",
              "      <td>5</td>\n",
              "      <td>3</td>\n",
              "    </tr>\n",
              "    <tr>\n",
              "      <th>8752</th>\n",
              "      <td>Swing Tray Portable Booster - Primary</td>\n",
              "      <td>The basic idea is great and the ease of assemb...</td>\n",
              "      <td>4</td>\n",
              "      <td>3</td>\n",
              "    </tr>\n",
              "    <tr>\n",
              "      <th>26</th>\n",
              "      <td>Baby's First Journal - Green</td>\n",
              "      <td>Extremely useful As a new mom tired and inexpe...</td>\n",
              "      <td>5</td>\n",
              "      <td>3</td>\n",
              "    </tr>\n",
              "    <tr>\n",
              "      <th>1345</th>\n",
              "      <td>Munchkin Mozart Magic Cube</td>\n",
              "      <td>Bought this for a 6month old pseudoniece as a ...</td>\n",
              "      <td>5</td>\n",
              "      <td>3</td>\n",
              "    </tr>\n",
              "    <tr>\n",
              "      <th>9984</th>\n",
              "      <td>Munchkin Twisty Figure 8 Teether</td>\n",
              "      <td>My son would NOT use any of the teething toys ...</td>\n",
              "      <td>5</td>\n",
              "      <td>3</td>\n",
              "    </tr>\n",
              "    <tr>\n",
              "      <th>3291</th>\n",
              "      <td>Evenflo Position and Lock Tall Wood Mount Gate</td>\n",
              "      <td>This was purchased specifically for keeping ou...</td>\n",
              "      <td>5</td>\n",
              "      <td>3</td>\n",
              "    </tr>\n",
              "    <tr>\n",
              "      <th>5867</th>\n",
              "      <td>The First Years Hands Free Gate Extension</td>\n",
              "      <td>shipped on time received in good condition pro...</td>\n",
              "      <td>5</td>\n",
              "      <td>3</td>\n",
              "    </tr>\n",
              "    <tr>\n",
              "      <th>3508</th>\n",
              "      <td>Prince Lionheart Diaper Depot Clear</td>\n",
              "      <td>I think this prodict is wonderful because it s...</td>\n",
              "      <td>5</td>\n",
              "      <td>3</td>\n",
              "    </tr>\n",
              "    <tr>\n",
              "      <th>4177</th>\n",
              "      <td>The First Years Hands Free Gate</td>\n",
              "      <td>We bought this gate and two extendersThen our ...</td>\n",
              "      <td>3</td>\n",
              "      <td>3</td>\n",
              "    </tr>\n",
              "    <tr>\n",
              "      <th>9502</th>\n",
              "      <td>Dreamscapes Soother</td>\n",
              "      <td>This is a cute toy but if you buy it I would r...</td>\n",
              "      <td>3</td>\n",
              "      <td>3</td>\n",
              "    </tr>\n",
              "    <tr>\n",
              "      <th>6403</th>\n",
              "      <td>Fisher-Price Stride to Ride Walker</td>\n",
              "      <td>I bought this for my daughter for Christmas be...</td>\n",
              "      <td>4</td>\n",
              "      <td>3</td>\n",
              "    </tr>\n",
              "  </tbody>\n",
              "</table>\n",
              "</div>\n",
              "      <button class=\"colab-df-convert\" onclick=\"convertToInteractive('df-a0a09a33-e912-42de-9a55-8777cb410997')\"\n",
              "              title=\"Convert this dataframe to an interactive table.\"\n",
              "              style=\"display:none;\">\n",
              "        \n",
              "  <svg xmlns=\"http://www.w3.org/2000/svg\" height=\"24px\"viewBox=\"0 0 24 24\"\n",
              "       width=\"24px\">\n",
              "    <path d=\"M0 0h24v24H0V0z\" fill=\"none\"/>\n",
              "    <path d=\"M18.56 5.44l.94 2.06.94-2.06 2.06-.94-2.06-.94-.94-2.06-.94 2.06-2.06.94zm-11 1L8.5 8.5l.94-2.06 2.06-.94-2.06-.94L8.5 2.5l-.94 2.06-2.06.94zm10 10l.94 2.06.94-2.06 2.06-.94-2.06-.94-.94-2.06-.94 2.06-2.06.94z\"/><path d=\"M17.41 7.96l-1.37-1.37c-.4-.4-.92-.59-1.43-.59-.52 0-1.04.2-1.43.59L10.3 9.45l-7.72 7.72c-.78.78-.78 2.05 0 2.83L4 21.41c.39.39.9.59 1.41.59.51 0 1.02-.2 1.41-.59l7.78-7.78 2.81-2.81c.8-.78.8-2.07 0-2.86zM5.41 20L4 18.59l7.72-7.72 1.47 1.35L5.41 20z\"/>\n",
              "  </svg>\n",
              "      </button>\n",
              "      \n",
              "  <style>\n",
              "    .colab-df-container {\n",
              "      display:flex;\n",
              "      flex-wrap:wrap;\n",
              "      gap: 12px;\n",
              "    }\n",
              "\n",
              "    .colab-df-convert {\n",
              "      background-color: #E8F0FE;\n",
              "      border: none;\n",
              "      border-radius: 50%;\n",
              "      cursor: pointer;\n",
              "      display: none;\n",
              "      fill: #1967D2;\n",
              "      height: 32px;\n",
              "      padding: 0 0 0 0;\n",
              "      width: 32px;\n",
              "    }\n",
              "\n",
              "    .colab-df-convert:hover {\n",
              "      background-color: #E2EBFA;\n",
              "      box-shadow: 0px 1px 2px rgba(60, 64, 67, 0.3), 0px 1px 3px 1px rgba(60, 64, 67, 0.15);\n",
              "      fill: #174EA6;\n",
              "    }\n",
              "\n",
              "    [theme=dark] .colab-df-convert {\n",
              "      background-color: #3B4455;\n",
              "      fill: #D2E3FC;\n",
              "    }\n",
              "\n",
              "    [theme=dark] .colab-df-convert:hover {\n",
              "      background-color: #434B5C;\n",
              "      box-shadow: 0px 1px 3px 1px rgba(0, 0, 0, 0.15);\n",
              "      filter: drop-shadow(0px 1px 2px rgba(0, 0, 0, 0.3));\n",
              "      fill: #FFFFFF;\n",
              "    }\n",
              "  </style>\n",
              "\n",
              "      <script>\n",
              "        const buttonEl =\n",
              "          document.querySelector('#df-a0a09a33-e912-42de-9a55-8777cb410997 button.colab-df-convert');\n",
              "        buttonEl.style.display =\n",
              "          google.colab.kernel.accessAllowed ? 'block' : 'none';\n",
              "\n",
              "        async function convertToInteractive(key) {\n",
              "          const element = document.querySelector('#df-a0a09a33-e912-42de-9a55-8777cb410997');\n",
              "          const dataTable =\n",
              "            await google.colab.kernel.invokeFunction('convertToInteractive',\n",
              "                                                     [key], {});\n",
              "          if (!dataTable) return;\n",
              "\n",
              "          const docLinkHtml = 'Like what you see? Visit the ' +\n",
              "            '<a target=\"_blank\" href=https://colab.research.google.com/notebooks/data_table.ipynb>data table notebook</a>'\n",
              "            + ' to learn more about interactive tables.';\n",
              "          element.innerHTML = '';\n",
              "          dataTable['output_type'] = 'display_data';\n",
              "          await google.colab.output.renderOutput(dataTable, element);\n",
              "          const docLink = document.createElement('div');\n",
              "          docLink.innerHTML = docLinkHtml;\n",
              "          element.appendChild(docLink);\n",
              "        }\n",
              "      </script>\n",
              "    </div>\n",
              "  </div>\n",
              "  "
            ]
          },
          "metadata": {},
          "execution_count": 230
        }
      ]
    },
    {
      "cell_type": "markdown",
      "source": [
        "The samples above show that in the cluster there are items of different categories and rate. "
      ],
      "metadata": {
        "id": "tPj63_vz14tt"
      }
    },
    {
      "cell_type": "markdown",
      "source": [
        "#Conclusion\n",
        "\n",
        "For this dataset the better method of finding the most similar text is KNN with cosine distance. Kmeans doesn't work well in this case."
      ],
      "metadata": {
        "id": "TWl8Txxk24Md"
      }
    }
  ]
}